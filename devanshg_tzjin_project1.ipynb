{
 "cells": [
  {
   "cell_type": "code",
   "execution_count": 7,
   "metadata": {
    "collapsed": false
   },
   "outputs": [],
   "source": [
    "import numpy as np\n",
    "import scipy as sp\n",
    "import matplotlib.pyplot as plt\n",
    "import random as rnd\n",
    "import scipy.io\n",
    "\n",
    "YALE = scipy.io.loadmat('YALEBXF.mat')\n",
    "X = YALE['X']\n",
    "Y = YALE['Y']\n",
    "nr, nc = 192, 168 # num rows & cols in images"
   ]
  },
  {
   "cell_type": "code",
   "execution_count": 8,
   "metadata": {
    "collapsed": false
   },
   "outputs": [],
   "source": [
    "# Num of Images For Each Label\n",
    "maxL = 40 # 40 labels from 0...39\n",
    "numims = np.zeros(maxL)\n",
    "for jj in range(0,maxL):\n",
    "    numims[jj] = (Y==jj).sum()\n",
    "\n",
    "def packcw(A):\n",
    "    return (A.T).reshape(-1,1)\n",
    "\n",
    "def unpackcw(x,nr):\n",
    "    return x.reshape(-1,nr).T"
   ]
  },
  {
   "cell_type": "code",
   "execution_count": null,
   "metadata": {
    "collapsed": false
   },
   "outputs": [],
   "source": [
    "# Make Face Board from Data Matrix X\n",
    "kk = 1\n",
    "FBnr, FBnc = 5, 8\n",
    "FB = np.zeros((FBnr*nr, FBnc*nc))\n",
    "for jj in range(0, maxL):\n",
    "    if numims[jj]>0:\n",
    "        a, loc = np.where(Y == jj)\n",
    "        x = X[:,loc[kk]]\n",
    "        A = unpackcw(x,nr)\n",
    "        row, col = divmod(jj,FBnc)\n",
    "        rpt, cpt = row*nr, col*nc\n",
    "        FB[rpt:rpt+nr, cpt:cpt+nc] = A\n",
    "plt.figure(figsize = (5, 5))\n",
    "plt.imshow(FB, cmap = 'gray')\n",
    "plt.axis('off')\n",
    "plt.show()"
   ]
  },
  {
   "cell_type": "code",
   "execution_count": null,
   "metadata": {
    "collapsed": true
   },
   "outputs": [],
   "source": [
    "mu = np.sum(X, axis=1)/X.shape[1]\n",
    "avgFaceImg = unpackcw(mu,nr)\n",
    "plt.figure(1)\n",
    "plt.imshow(avgFaceImg, cmap = 'gray')\n",
    "plt.axis('off')\n",
    "plt.show()"
   ]
  },
  {
   "cell_type": "code",
   "execution_count": null,
   "metadata": {
    "collapsed": true
   },
   "outputs": [],
   "source": [
    "doSVD = 0\n",
    "\n",
    "if doSVD == 1:\n",
    "    U,S,V = np.linalg.svd(X, full_matrices=0, compute_uv=1)\n",
    "    np.save(’U.npy’, U)\n",
    "    np.save(’S.npy’, S)\n",
    "    np.save(’V.npy’, V)\n",
    "else:\n",
    "    U = np.load(’U.npy’)\n",
    "    S = np.load(’S.npy’)"
   ]
  },
  {
   "cell_type": "code",
   "execution_count": null,
   "metadata": {
    "collapsed": true
   },
   "outputs": [],
   "source": [
    "x = np.linspace(0, 200)\n",
    "y = np.zeros((1,200))\n",
    "for i in range(200):\n",
    "    y[i] = S[i,i]\n",
    "\n",
    "plt.plot(y)\n",
    "plt.show()"
   ]
  }
 ],
 "metadata": {
  "kernelspec": {
   "display_name": "Python 2",
   "language": "python",
   "name": "python2"
  },
  "language_info": {
   "codemirror_mode": {
    "name": "ipython",
    "version": 2
   },
   "file_extension": ".py",
   "mimetype": "text/x-python",
   "name": "python",
   "nbconvert_exporter": "python",
   "pygments_lexer": "ipython2",
   "version": "2.7.11"
  }
 },
 "nbformat": 4,
 "nbformat_minor": 0
}
